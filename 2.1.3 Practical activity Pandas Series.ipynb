{
 "cells": [
  {
   "cell_type": "code",
   "execution_count": 1,
   "metadata": {},
   "outputs": [],
   "source": [
    "import pandas as pd"
   ]
  },
  {
   "cell_type": "code",
   "execution_count": 2,
   "metadata": {},
   "outputs": [],
   "source": [
    "import numpy as np"
   ]
  },
  {
   "cell_type": "code",
   "execution_count": 11,
   "metadata": {},
   "outputs": [
    {
     "name": "stdout",
     "output_type": "stream",
     "text": [
      "0               Law Enforcement (123)\n",
      "1      Fire and Rescue Services (224)\n",
      "2    Emergency Medical Services (101)\n",
      "3          Emergency Management (999)\n",
      "4                  Public Works (900)\n",
      "dtype: object\n"
     ]
    }
   ],
   "source": [
    "# a list of emergency numbers \n",
    "emergency_numbers_list = ['Law Enforcement (123)', 'Fire and Rescue Services (224)', \n",
    "                     'Emergency Medical Services (101)', \n",
    "                     'Emergency Management (999)', 'Public Works (900)']\n",
    "\n",
    "emergency_numbers = pd.Series(emergency_numbers_list)\n",
    "\n",
    "print(emergency_numbers)"
   ]
  },
  {
   "cell_type": "code",
   "execution_count": 7,
   "metadata": {},
   "outputs": [
    {
     "name": "stdout",
     "output_type": "stream",
     "text": [
      "0      Prevention\n",
      "1      mitigation\n",
      "2    preparedness\n",
      "3        response\n",
      "4        recovery\n",
      "dtype: object\n"
     ]
    }
   ],
   "source": [
    "# a list of emergency protocols\n",
    "emergency_protocols_list = ['Prevention', 'mitigation', 'preparedness', 'response', 'recovery']\n",
    "\n",
    "emergency_protocols = pd.Series(emergency_protocols_list)\n",
    "\n",
    "print(emergency_protocols)"
   ]
  },
  {
   "cell_type": "code",
   "execution_count": 9,
   "metadata": {},
   "outputs": [
    {
     "name": "stdout",
     "output_type": "stream",
     "text": [
      "0          Check carotid pulse (neck)\n",
      "1                    breathing (nose)\n",
      "2    obstructions (nose, ears, mouth)\n",
      "3                 pupils (responsive)\n",
      "4                       consciousness\n",
      "5                     contact details\n",
      "6                           allergies\n",
      "dtype: object\n"
     ]
    }
   ],
   "source": [
    "# a checklist for patients arriving at the emergency entrance \n",
    "emergency_checklist_list = ['Check carotid pulse (neck)', 'breathing (nose)', \n",
    "                       'obstructions (nose, ears, mouth)', \n",
    "                       'pupils (responsive)', 'consciousness', \n",
    "                       'contact details', 'allergies']\n",
    "\n",
    "emergency_checklist = pd.Series(emergency_checklist_list)\n",
    "\n",
    "print(emergency_checklist)"
   ]
  },
  {
   "cell_type": "code",
   "execution_count": 12,
   "metadata": {},
   "outputs": [
    {
     "name": "stdout",
     "output_type": "stream",
     "text": [
      "Law Enforcement               (123)\n",
      "Fire and Rescue Services      (224)\n",
      "Emergency Medical Services    (101)\n",
      "Emergency Management          (999)\n",
      "Public Works                  (900)\n",
      "dtype: object\n"
     ]
    }
   ],
   "source": [
    "# a list of emergency numbers - version 2\n",
    "emergency_numbers_dict = {'Law Enforcement': '(123)', \n",
    "                          'Fire and Rescue Services': '(224)', \n",
    "                          'Emergency Medical Services': '(101)', \n",
    "                          'Emergency Management': '(999)', \n",
    "                          'Public Works': '(900)'}\n",
    "\n",
    "emergency_numbers2 = pd.Series(emergency_numbers_dict)\n",
    "\n",
    "print(emergency_numbers2)"
   ]
  },
  {
   "cell_type": "code",
   "execution_count": null,
   "metadata": {},
   "outputs": [],
   "source": []
  }
 ],
 "metadata": {
  "kernelspec": {
   "display_name": "Python 3",
   "language": "python",
   "name": "python3"
  },
  "language_info": {
   "codemirror_mode": {
    "name": "ipython",
    "version": 3
   },
   "file_extension": ".py",
   "mimetype": "text/x-python",
   "name": "python",
   "nbconvert_exporter": "python",
   "pygments_lexer": "ipython3",
   "version": "3.7.10"
  }
 },
 "nbformat": 4,
 "nbformat_minor": 4
}
